{
 "cells": [
  {
   "cell_type": "markdown",
   "id": "a3eff00f",
   "metadata": {},
   "source": [
    "# Bayes Classifier for Breast Cancer Detection"
   ]
  },
  {
   "cell_type": "code",
   "execution_count": 1,
   "id": "8fd18198",
   "metadata": {},
   "outputs": [],
   "source": [
    "import numpy as np\n",
    "import pandas as pd\n",
    "from sklearn import metrics\n",
    "from sklearn.model_selection import train_test_split\n",
    "from sklearn.naive_bayes import GaussianNB\n",
    "from sklearn.metrics import classification_report"
   ]
  },
  {
   "cell_type": "markdown",
   "id": "ee47b882",
   "metadata": {},
   "source": [
    "- <b> Gaussian Naive Bayes Classifier From Scratch </b>"
   ]
  },
  {
   "cell_type": "code",
   "execution_count": 2,
   "id": "e35f600e",
   "metadata": {},
   "outputs": [],
   "source": [
    "class GaussianNaiveBayesClassifier:\n",
    "    def __init__(self, df):\n",
    "        self.df = df\n",
    "        self.n_classes = len(np.unique(df['diagnosis']))\n",
    "    \n",
    "    def fit(self, X_train, y_train):\n",
    "        self.X_train = X_train\n",
    "        self.y_train = y_train\n",
    "        self.set_gaussian_parameters()\n",
    "        self.set_prior()\n",
    "    \n",
    "    def set_gaussian_parameters(self):\n",
    "        self.mean = []\n",
    "        self.std = []\n",
    "        for i in range(self.n_classes):\n",
    "            X = self.X_train[self.y_train == i]\n",
    "            self.mean.append(np.mean(X, axis = 0))\n",
    "            self.std.append(np.std(X, axis = 0))\n",
    "    \n",
    "    def set_prior(self):\n",
    "        self.prior = []\n",
    "        for i in range(self.n_classes):\n",
    "            X = self.X_train[self.y_train == i]\n",
    "            self.prior.append(X.shape[0] / len(self.X_train))\n",
    "            \n",
    "    def get_likelihood(self, x, i):\n",
    "        exponent = np.exp((- 1 / 2) * (((x - self.mean[i]) / self.std[i]) ** 2))\n",
    "        return (1 / ((np.sqrt(2 * np.pi)) * self.std[i])) * exponent\n",
    "    \n",
    "    def classify_sample(self, x):\n",
    "        posterior = []\n",
    "        for i in range(self.n_classes):\n",
    "            posterior.append(np.prod(self.get_likelihood(x, i)) * self.prior[i])\n",
    "        return posterior.index(max(posterior))\n",
    "\n",
    "    def predict(self, X_test):\n",
    "        return [self.classify_sample(x) for x in X_test]"
   ]
  },
  {
   "cell_type": "code",
   "execution_count": 3,
   "id": "03ff65a8",
   "metadata": {},
   "outputs": [],
   "source": [
    "df = pd.read_csv('./Data/Breast_cancer_data.csv')\n",
    "X = df.drop(['diagnosis'], axis = 1).to_numpy()\n",
    "y = df['diagnosis'].to_numpy()\n",
    "X_train, X_test, y_train, y_test = train_test_split(X, y, test_size = 0.2, random_state = 3106)"
   ]
  },
  {
   "cell_type": "code",
   "execution_count": 4,
   "id": "5b97deaf",
   "metadata": {
    "scrolled": true
   },
   "outputs": [],
   "source": [
    "GNB = GaussianNaiveBayesClassifier(df)\n",
    "GNB.fit(X_train, y_train)\n",
    "y_predicted = GNB.predict(X_test)"
   ]
  },
  {
   "cell_type": "code",
   "execution_count": 5,
   "id": "a704ecba",
   "metadata": {
    "scrolled": true
   },
   "outputs": [
    {
     "name": "stdout",
     "output_type": "stream",
     "text": [
      "[[33 10]\n",
      " [ 1 70]]\n"
     ]
    }
   ],
   "source": [
    "print(metrics.confusion_matrix(y_test, y_predicted))"
   ]
  },
  {
   "cell_type": "code",
   "execution_count": 6,
   "id": "e9149257",
   "metadata": {},
   "outputs": [
    {
     "name": "stdout",
     "output_type": "stream",
     "text": [
      "              precision    recall  f1-score   support\n",
      "\n",
      "           0       0.97      0.77      0.86        43\n",
      "           1       0.88      0.99      0.93        71\n",
      "\n",
      "    accuracy                           0.90       114\n",
      "   macro avg       0.92      0.88      0.89       114\n",
      "weighted avg       0.91      0.90      0.90       114\n",
      "\n"
     ]
    }
   ],
   "source": [
    "print(classification_report(y_test, y_predicted))"
   ]
  },
  {
   "cell_type": "markdown",
   "id": "3d2ddcea",
   "metadata": {},
   "source": [
    "- <b> Gaussian Naive Bayes Classifier Using `scikit-learn` Library </b>"
   ]
  },
  {
   "cell_type": "code",
   "execution_count": 7,
   "id": "0b33192e",
   "metadata": {},
   "outputs": [],
   "source": [
    "GNB = GaussianNB()\n",
    "GNB.fit(X_train, y_train)\n",
    "y_predicted = GNB.predict(X_test)"
   ]
  },
  {
   "cell_type": "code",
   "execution_count": 8,
   "id": "9f35d8cf",
   "metadata": {},
   "outputs": [
    {
     "name": "stdout",
     "output_type": "stream",
     "text": [
      "[[32 11]\n",
      " [ 1 70]]\n"
     ]
    }
   ],
   "source": [
    "print(metrics.confusion_matrix(y_test, y_predicted))"
   ]
  },
  {
   "cell_type": "code",
   "execution_count": 9,
   "id": "780ca9d8",
   "metadata": {},
   "outputs": [
    {
     "name": "stdout",
     "output_type": "stream",
     "text": [
      "              precision    recall  f1-score   support\n",
      "\n",
      "           0       0.97      0.74      0.84        43\n",
      "           1       0.86      0.99      0.92        71\n",
      "\n",
      "    accuracy                           0.89       114\n",
      "   macro avg       0.92      0.87      0.88       114\n",
      "weighted avg       0.90      0.89      0.89       114\n",
      "\n"
     ]
    }
   ],
   "source": [
    "print(classification_report(y_test, y_predicted))"
   ]
  },
  {
   "cell_type": "markdown",
   "id": "2a001acf",
   "metadata": {},
   "source": [
    "- <b> Gaussian Optimal Bayes Classifier From Scratch </b>"
   ]
  },
  {
   "cell_type": "code",
   "execution_count": 10,
   "id": "1743dc9f",
   "metadata": {},
   "outputs": [],
   "source": [
    "class GaussianOptimalBayesClassifier:\n",
    "    def __init__(self, df):\n",
    "        self.df = df\n",
    "        self.n_classes = len(np.unique(df['diagnosis']))\n",
    "    \n",
    "    def fit(self, X_train, y_train):\n",
    "        self.X_train = X_train\n",
    "        self.y_train = y_train\n",
    "        self.set_gaussian_parameters()\n",
    "        self.set_prior()\n",
    "    \n",
    "    def set_gaussian_parameters(self):\n",
    "        self.mean = []\n",
    "        self.cov = []\n",
    "        for i in range(self.n_classes):\n",
    "            X = self.X_train[self.y_train == i]\n",
    "            self.mean.append(np.mean(X, axis = 0))\n",
    "            self.cov.append(np.cov(X.T))\n",
    "\n",
    "    def set_prior(self):\n",
    "        self.prior = []\n",
    "        for i in range(self.n_classes):\n",
    "            X = self.X_train[self.y_train == i]\n",
    "            self.prior.append(X.shape[0] / len(self.X_train))\n",
    "            \n",
    "    def get_likelihood(self, x, i):\n",
    "        exponent = np.exp((- 1 / 2) * ((x - self.mean[i]).T.dot(np.linalg.inv(self.cov[i]))).dot(x - self.mean[i]))\n",
    "        return (1 / (((2 * np.pi) ** (len(self.mean[i] / 2))) * (np.linalg.det(self.cov[i]) ** (1 / 2)))) * exponent\n",
    "    \n",
    "    def classify_sample(self, x):\n",
    "        posterior = []\n",
    "        for i in range(self.n_classes):\n",
    "            posterior.append(self.get_likelihood(x, i) * self.prior[i])\n",
    "        return posterior.index(max(posterior))\n",
    "\n",
    "    def predict(self, X_test):\n",
    "        return [self.classify_sample(x) for x in X_test]"
   ]
  },
  {
   "cell_type": "code",
   "execution_count": 11,
   "id": "cc1a6ca6",
   "metadata": {},
   "outputs": [],
   "source": [
    "GNB = GaussianOptimalBayesClassifier(df)\n",
    "GNB.fit(X_train, y_train)\n",
    "y_predicted = GNB.predict(X_test)"
   ]
  },
  {
   "cell_type": "code",
   "execution_count": 12,
   "id": "f78fc2ed",
   "metadata": {},
   "outputs": [
    {
     "name": "stdout",
     "output_type": "stream",
     "text": [
      "[[35  8]\n",
      " [ 2 69]]\n"
     ]
    }
   ],
   "source": [
    "print(metrics.confusion_matrix(y_test, y_predicted))"
   ]
  },
  {
   "cell_type": "code",
   "execution_count": 13,
   "id": "a4ed509a",
   "metadata": {},
   "outputs": [
    {
     "name": "stdout",
     "output_type": "stream",
     "text": [
      "              precision    recall  f1-score   support\n",
      "\n",
      "           0       0.95      0.81      0.88        43\n",
      "           1       0.90      0.97      0.93        71\n",
      "\n",
      "    accuracy                           0.91       114\n",
      "   macro avg       0.92      0.89      0.90       114\n",
      "weighted avg       0.91      0.91      0.91       114\n",
      "\n"
     ]
    }
   ],
   "source": [
    "print(classification_report(y_test, y_predicted))"
   ]
  }
 ],
 "metadata": {
  "kernelspec": {
   "display_name": "Python 3 (ipykernel)",
   "language": "python",
   "name": "python3"
  },
  "language_info": {
   "codemirror_mode": {
    "name": "ipython",
    "version": 3
   },
   "file_extension": ".py",
   "mimetype": "text/x-python",
   "name": "python",
   "nbconvert_exporter": "python",
   "pygments_lexer": "ipython3",
   "version": "3.9.13"
  },
  "vscode": {
   "interpreter": {
    "hash": "d9952a46d7a4003d396f5b1565a93d7e7501aecba2c2250b9266b6cc11943bd4"
   }
  }
 },
 "nbformat": 4,
 "nbformat_minor": 5
}
